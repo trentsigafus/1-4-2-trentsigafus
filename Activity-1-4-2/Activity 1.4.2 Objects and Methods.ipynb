{
 "cells": [
  {
   "cell_type": "markdown",
   "metadata": {},
   "source": [
    "# Activity 1.4.2 Objects and Methods\n",
    "## Introduction\n",
    "\n",
    "In this lesson you will be creative with images. Starting with image files, you will load image objects into memory and then do interesting things with them. What are image files? They're data, really just zeros and ones. Images can be stored and retrieved like any other data files. \n",
    "\n",
    "Once an image is in memory, we can perform a \"simple\" action on it like enlarging, brightening, or rotating it. These verbs abstract a complicated operation that can involve millions of calculations. When you move a window on the screen, click on a menu, or even just move the mouse, the pixels on the screen change. These are manipulations of images. In each case the central processing unit and the processors on the graphics card handle millions of ones and zeros to render fresh images on the monitor. How do we use objects and methods to handle these complex operations? Good Luck!\n",
    "\n"
   ]
  },
  {
   "cell_type": "markdown",
   "metadata": {},
   "source": [
    "## Part 2: Rendering an Image on Screen\n",
    "Lines 12 and 14 of the code below create an absolute filename for an image by assuming that the image is in the same folder as your Python script. Use Windows Explorer to place files woman.jpg and 'cat-1a.gif' in the folder where you are saving Python scripts. \n"
   ]
  },
  {
   "cell_type": "code",
   "execution_count": null,
   "metadata": {},
   "outputs": [],
   "source": [
    "'''\n",
    "JDoe_JSmith_1_4_2: Read and show an image.\n",
    "'''\n",
    "%matplotlib inline\n",
    "import matplotlib.pyplot as plt \n",
    "import os.path\n",
    "import numpy as np      # “as” lets us use standard abbreviations\n",
    "\n",
    "'''Read the image data'''\n",
    "# Get the directory of this python script\n",
    "directory = os.getcwd()\n",
    "# Build an absolute filename from directory + filename\n",
    "filename = os.path.join(directory, 'woman.jpg')\n",
    "# Read the image data into an array\n",
    "img = plt.imread(filename)\n",
    "\n",
    "'''Show the image data'''\n",
    "# Create figure with 1 subplot\n",
    "fig, ax = plt.subplots(1, 1)\n",
    "# Show the image data in a subplot\n",
    "ax.imshow(img, interpolation='none')\n",
    "# Show the figure on the screen\n",
    "fig.show()\n",
    "#test code"
   ]
  },
  {
   "cell_type": "markdown",
   "metadata": {},
   "source": [
    "## Exercise 1\n",
    "Copy the code above in the cell below and modify it so that the picture of the cat outputs. What are the X,Y coordinates of the cat's nose?"
   ]
  },
  {
   "cell_type": "code",
   "execution_count": null,
   "metadata": {
    "collapsed": true
   },
   "outputs": [],
   "source": [
    "# Copy and modify the code from above to display the scratch cat"
   ]
  },
  {
   "cell_type": "markdown",
   "metadata": {},
   "source": [
    "## Part 3:  Arrays of Objects\n",
    "\n",
    "## Exercise 2\n",
    "Modify the code below so that an image of the woman appears in both of the snapshots.\n"
   ]
  },
  {
   "cell_type": "code",
   "execution_count": null,
   "metadata": {},
   "outputs": [],
   "source": [
    "'''\n",
    "JDoe_JSmith_1_4_2: Read and show an image.\n",
    "'''\n",
    "%matplotlib inline\n",
    "import matplotlib.pyplot as plt \n",
    "import os.path\n",
    "import numpy as np      # “as” lets us use standard abbreviations\n",
    "\n",
    "'''Read the image data'''\n",
    "# Get the directory of this python script\n",
    "directory = os.getcwd()\n",
    "# Build an absolute filename from directory + filename\n",
    "filename = os.path.join(directory, 'woman.jpg')\n",
    "# Read the image data into an array\n",
    "img = plt.imread(filename)\n",
    "\n",
    "'''Show the image data'''\n",
    "# Create a 1x2 grid of subplots\n",
    "# fig is the Figure, and ax is an ndarray of AxesSubplots\n",
    "# ax[0] and ax[1] are the two Axes Subplots\n",
    "fig, ax = plt.subplots(1, 2)\n",
    "# Show the image data in the first subplot\n",
    "ax[0].imshow(img, interpolation='none')\n",
    "\n",
    "# Show the figure on the screen\n",
    "fig.show()"
   ]
  },
  {
   "cell_type": "markdown",
   "metadata": {},
   "source": [
    "## Exercise 3\n",
    "Modify the code below so that instead of multiple pictures of the woman there are 5 pictures of the scratch cat\n",
    "\n"
   ]
  },
  {
   "cell_type": "code",
   "execution_count": null,
   "metadata": {},
   "outputs": [],
   "source": [
    "'''\n",
    "JDoe_JSmith_1_4_2: Read and show an image.\n",
    "'''\n",
    "%matplotlib inline\n",
    "import matplotlib.pyplot as plt \n",
    "import os.path\n",
    "import numpy as np      # “as” lets us use standard abbreviations\n",
    "\n",
    "'''Read the image data'''\n",
    "# Get the directory of this python script\n",
    "directory = os.getcwd()\n",
    "# Build an absolute filename from directory + filename\n",
    "filename = os.path.join(directory, 'woman.jpg')\n",
    "# Read the image data into an array\n",
    "img = plt.imread(filename)\n",
    "\n",
    "'''Show the image data'''\n",
    "# Create a 1x2 grid of subplots\n",
    "# fig is the Figure, and ax is an ndarray of AxesSubplots\n",
    "# ax[0] and ax[1] are the two Axes Subplots\n",
    "fig, ax = plt.subplots(1, 2)\n",
    "# Show the image data in the first subplot\n",
    "ax[0].imshow(img, interpolation='none')\n",
    "\n",
    "# Show the figure on the screen\n",
    "fig.show()"
   ]
  },
  {
   "cell_type": "markdown",
   "metadata": {},
   "source": [
    "Methods and other functions often can be called with additional arguments. If you don't provide an optional argument when you call the function, the default value of that argument is used.\n",
    "\n",
    "The imshow() method was called on both of the AxesSuplots shown below. For the axes on the left, the method was called with interpolation='none', whereas the axes on the right used the default value of the interpolation argument.\n"
   ]
  },
  {
   "cell_type": "code",
   "execution_count": null,
   "metadata": {},
   "outputs": [],
   "source": [
    "'''Read the image data'''\n",
    "# Get the directory of this python script\n",
    "directory = os.getcwd()# Build an absolute filename from directory + filename\n",
    "\n",
    "filename = os.path.join(directory, 'woman.jpg')\n",
    "# Read the image data into an array\n",
    "img = plt.imread(filename)\n",
    "\n",
    "# Create figure with 2 subplots\n",
    "fig, ax = plt.subplots(1, 2)\n",
    "# Show the image data in the first subplot\n",
    "ax[0].imshow(img)\n",
    "ax[1].imshow(img, interpolation='none') # Override the default\n",
    "ax[0].set_xlim(135, 165)\n",
    "ax[0].set_ylim(470, 420)\n",
    "ax[1].set_xlim(135, 165)\n",
    "ax[1].set_ylim(470, 420)\n",
    "# Show the figure on the screen\n",
    "fig.show()"
   ]
  },
  {
   "cell_type": "markdown",
   "metadata": {},
   "source": [
    "The matplotlib interface will normally interpolate between values of the image pixels, inferring intermediate colors for screen pixels between the centers of image pixels.  \n",
    "\n",
    "The keywords of a function are often important ideas from the library's subject matter. Interpolating is an important idea in math. Describe the connections among interpolation between data points, the interpolation argument, the image above, and the code above.\n",
    "\n",
    "An API (Application Programming Interface) for a class describes all methods you can call on objects in the class. Here are some of the methods from the API for AxesSubplot. \n",
    "\n",
    "\n",
    "\n",
    "\n",
    "\n",
    "\n",
    "## Exercise 4\n",
    "Use the methods above to create three close-ups of an image in a single Figure. Each close-up should show a 10 pixel by 10 pixel region. An example using cat1-a.gif is shown here. \n",
    "<img src=\"CloseCat.png\" alt=\"Drawing\" style=\"width: 300px;\"/>\n",
    "\n"
   ]
  },
  {
   "cell_type": "code",
   "execution_count": null,
   "metadata": {
    "collapsed": true
   },
   "outputs": [],
   "source": [
    "#Put the code that creates the 3 close-ups of the scratch cat\n"
   ]
  },
  {
   "cell_type": "markdown",
   "metadata": {},
   "source": [
    "## Exercise 5\n",
    "The ability to wade through documentation full of unknown terms is an important skill. Go to the documentation at http://matplotlib.org/api/axes_api.html#matplotlib.axes.Axes.imshow. This documentation is for the class Axes, which includes the AxesSubplot subclass. The link provided here points to the documentation for the imshow() method. From the documentation, identify one additional method of an AxesSubplot . Describe at least one of the optional arguments of that method and state its default value.\n"
   ]
  },
  {
   "cell_type": "markdown",
   "metadata": {},
   "source": [
    "## Exercise 6\n",
    "The class AxesSubplot has many methods for displaying data, including the plot() method.\n",
    "\n",
    "plot(x, y, 'ro') places red circles (coded by 'ro') at all points (xi, yi) where x and y are lists of the xi and yi coordinates, respectively. In an image containing a few faces, mark the eyes with red circles using plot(). Include your documented code in the cell below.\n"
   ]
  },
  {
   "cell_type": "code",
   "execution_count": null,
   "metadata": {
    "collapsed": true
   },
   "outputs": [],
   "source": [
    "#Put your code that places red dots on top of the eyes of individuals"
   ]
  },
  {
   "cell_type": "markdown",
   "metadata": {},
   "source": []
  }
 ],
 "metadata": {
  "kernelspec": {
   "display_name": "Python 2",
   "language": "python",
   "name": "python2"
  },
  "language_info": {
   "codemirror_mode": {
    "name": "ipython",
    "version": 2
   },
   "file_extension": ".py",
   "mimetype": "text/x-python",
   "name": "python",
   "nbconvert_exporter": "python",
   "pygments_lexer": "ipython2",
   "version": "2.7.13"
  }
 },
 "nbformat": 4,
 "nbformat_minor": 1
}
